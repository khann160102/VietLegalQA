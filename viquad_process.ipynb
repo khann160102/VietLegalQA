{
 "cells": [
  {
   "cell_type": "code",
   "execution_count": 1,
   "metadata": {},
   "outputs": [],
   "source": [
    "import evaluate\n",
    "\n",
    "from datasets import load_dataset, concatenate_datasets\n",
    "from stanza import Pipeline\n",
    "from statistics import mode\n",
    "from tqdm import tqdm\n",
    "from underthesea import word_tokenize, sent_tokenize"
   ]
  },
  {
   "cell_type": "code",
   "execution_count": 2,
   "metadata": {},
   "outputs": [
    {
     "data": {
      "text/plain": [
       "Dataset({\n",
       "    features: ['id', 'title', 'context', 'question', 'start', 'answer'],\n",
       "    num_rows: 23305\n",
       "})"
      ]
     },
     "execution_count": 2,
     "metadata": {},
     "output_type": "execute_result"
    }
   ],
   "source": [
    "viquad = load_dataset(\"phatjk/viquad\")\n",
    "viquad = (\n",
    "    concatenate_datasets([viquad[\"train\"], viquad[\"test\"]])\n",
    "    .rename_columns({\"Id\": \"id\", \"ans_start\": \"start\", \"text\": \"answer\"})\n",
    "    .remove_columns([\"__index_level_0__\"])\n",
    ")\n",
    "viquad"
   ]
  },
  {
   "cell_type": "code",
   "execution_count": 3,
   "metadata": {},
   "outputs": [
    {
     "data": {
      "text/plain": [
       "Dataset({\n",
       "    features: ['id', 'title', 'context', 'question', 'start', 'answer'],\n",
       "    num_rows: 100\n",
       "})"
      ]
     },
     "execution_count": 3,
     "metadata": {},
     "output_type": "execute_result"
    }
   ],
   "source": [
    "viquad_temp = viquad.select(range(100))\n",
    "viquad_temp"
   ]
  },
  {
   "cell_type": "code",
   "execution_count": 4,
   "metadata": {},
   "outputs": [],
   "source": [
    "padding = len(str(len(viquad)))\n",
    "new_idx = [f\"viquad_{str(idx).zfill(padding)}\" for idx in range(len(viquad))]\n",
    "\n",
    "\n",
    "def get_new_id(entry):\n",
    "    entry[\"id\"] = new_idx[0]\n",
    "    new_idx.pop(0)\n",
    "    return entry\n",
    "\n",
    "\n",
    "viquad = viquad.map(get_new_id)"
   ]
  },
  {
   "cell_type": "code",
   "execution_count": 5,
   "metadata": {},
   "outputs": [],
   "source": [
    "SENT_TOKENIZE = Pipeline(\n",
    "    lang=\"vi\",\n",
    "    processors=\"tokenize\",\n",
    "    use_gpu=True,\n",
    "    device=0,\n",
    "    verbose=False,\n",
    "    allow_unknown_language=True,\n",
    "    tokenize_no_ssplit=True,\n",
    ")\n",
    "NER = Pipeline(\n",
    "    lang=\"vi\",\n",
    "    processors=\"tokenize, ner\",\n",
    "    use_gpu=True,\n",
    "    device=0,\n",
    "    verbose=False,\n",
    "    allow_unknown_language=True,\n",
    "    tokenize_pretokenized=True,\n",
    "    tokenize_no_ssplit=True,\n",
    ")\n",
    "PARSER = Pipeline(\n",
    "    lang=\"vi\",\n",
    "    processors=\"tokenize, pos, constituency\",\n",
    "    use_gpu=True,\n",
    "    device=0,\n",
    "    verbose=False,\n",
    "    allow_unknown_language=True,\n",
    ")\n",
    "rouge = evaluate.load(\"rouge\")"
   ]
  },
  {
   "cell_type": "code",
   "execution_count": 14,
   "metadata": {},
   "outputs": [],
   "source": [
    "KEYS = viquad.column_names.extend([\"type\", \"cloze_question\"])\n",
    "THRESHOLD = 0.8\n",
    "POS_TAGS = [\"NP\", \"AP\", \"VP\", \"S\", \"Num\"]\n",
    "POS_REPLACE = dict(\n",
    "    {\n",
    "        \"Num\": \"NUMBER\",\n",
    "        \"NP\": \"NOUNPHRASE\",\n",
    "        \"AP\": \"ADVPHRASE\",\n",
    "        \"VP\": \"VERBPHARSE\",\n",
    "        \"S\": \"CLAUSE\",\n",
    "    }\n",
    ")\n",
    "\n",
    "\n",
    "def text_tokenize(text):\n",
    "    return \"\\n\\n\".join([\"\\n\".join(word_tokenize(sent)) for sent in sent_tokenize(text)])\n",
    "\n",
    "\n",
    "def get_ner(text, threshold=THRESHOLD):\n",
    "    ner = NER(text_tokenize(text)).entities\n",
    "    score = rouge.compute(\n",
    "        predictions=[\" \".join([ent.text for ent in ner])],\n",
    "        references=[text],\n",
    "    )\n",
    "    return mode([ent.type for ent in ner]) if score[\"rougeL\"] >= threshold else None\n",
    "\n",
    "\n",
    "def get_labels(node):\n",
    "    if node.is_leaf():\n",
    "        return None\n",
    "    if node.label in POS_TAGS:\n",
    "        return node.label\n",
    "    else:\n",
    "        for child in node.children:\n",
    "            return get_labels(child)\n",
    "\n",
    "\n",
    "def get_pos(text):\n",
    "    doc = PARSER(\" \".join(word_tokenize(text)))\n",
    "    pos = []\n",
    "    for sent in doc.sentences:\n",
    "        labels = get_labels(sent.constituency)\n",
    "        if labels is not None:\n",
    "            pos.append(labels)\n",
    "    return (\n",
    "        \"MISCELLANEOUS\"\n",
    "        if len(pos) == 0\n",
    "        else POS_REPLACE[mode([tag for tag in pos if tag is not None])]\n",
    "    )\n",
    "\n",
    "\n",
    "def get_type(answer):\n",
    "    ner = get_ner(answer)\n",
    "    return ner if ner is not None else get_pos(answer)\n",
    "\n",
    "\n",
    "def get_type_batch(batch):\n",
    "    return [get_type(entry) for entry in batch]\n",
    "\n",
    "\n",
    "def get_cloze_question(entry):\n",
    "    end_char = 0\n",
    "    for sent in SENT_TOKENIZE(\"\\n\\n\".join(sent_tokenize(entry[\"context\"]))).sentences:\n",
    "        end_char += sent.tokens[-1].end_char\n",
    "        if entry[\"start\"] <= end_char and entry[\"answer\"] in sent.text:\n",
    "            return sent.text.replace(entry[\"answer\"], entry[\"type\"])\n",
    "    return entry[\"context\"].replace(entry[\"answer\"], entry[\"type\"])\n",
    "\n",
    "\n",
    "def get_cloze_question_batch(batch):\n",
    "    entries = []\n",
    "    for i in range(len(batch[KEYS[0]])):\n",
    "        entry = {key: batch[key][i] for key in KEYS}\n",
    "        # for key in keys:\n",
    "        #     entry[key] = batch[key][i]\n",
    "        entries.append(entry)\n",
    "\n",
    "    return [\" \".join(word_tokenize(get_cloze_question(entry))) for entry in entries]"
   ]
  },
  {
   "cell_type": "code",
   "execution_count": 7,
   "metadata": {},
   "outputs": [
    {
     "data": {
      "text/plain": [
       "Dataset({\n",
       "    features: ['id', 'title', 'context', 'question', 'start', 'answer'],\n",
       "    num_rows: 100\n",
       "})"
      ]
     },
     "execution_count": 7,
     "metadata": {},
     "output_type": "execute_result"
    }
   ],
   "source": [
    "viquad_temp = viquad.select(range(100))\n",
    "viquad_temp"
   ]
  },
  {
   "cell_type": "code",
   "execution_count": 8,
   "metadata": {},
   "outputs": [
    {
     "data": {
      "application/vnd.jupyter.widget-view+json": {
       "model_id": "31881530c1e444089522fd38dd288f55",
       "version_major": 2,
       "version_minor": 0
      },
      "text/plain": [
       "Map:   0%|          | 0/100 [00:00<?, ? examples/s]"
      ]
     },
     "metadata": {},
     "output_type": "display_data"
    },
    {
     "data": {
      "text/plain": [
       "Dataset({\n",
       "    features: ['id', 'title', 'context', 'question', 'start', 'answer', 'type'],\n",
       "    num_rows: 100\n",
       "})"
      ]
     },
     "execution_count": 8,
     "metadata": {},
     "output_type": "execute_result"
    }
   ],
   "source": [
    "viquad_temp = viquad_temp.map(\n",
    "    lambda batch: {\"type\": get_type_batch(batch[\"answer\"])},\n",
    "    batched=True,\n",
    "    batch_size=int(len(viquad_temp) / 10),\n",
    ")\n",
    "viquad_temp"
   ]
  },
  {
   "cell_type": "code",
   "execution_count": 15,
   "metadata": {},
   "outputs": [
    {
     "data": {
      "application/vnd.jupyter.widget-view+json": {
       "model_id": "9c77270fd88748a38133cbc7a99b4f81",
       "version_major": 2,
       "version_minor": 0
      },
      "text/plain": [
       "Map:   0%|          | 0/100 [00:00<?, ? examples/s]"
      ]
     },
     "metadata": {},
     "output_type": "display_data"
    },
    {
     "data": {
      "text/plain": [
       "Dataset({\n",
       "    features: ['id', 'title', 'context', 'question', 'start', 'answer', 'type', 'cloze_question'],\n",
       "    num_rows: 100\n",
       "})"
      ]
     },
     "execution_count": 15,
     "metadata": {},
     "output_type": "execute_result"
    }
   ],
   "source": [
    "viquad_temp = viquad_temp.map(\n",
    "    lambda batch: {\"cloze_question\": get_cloze_question_batch(batch)},\n",
    "    batched=True,\n",
    "    batch_size=int(len(viquad_temp) / 10),\n",
    ")\n",
    "viquad_temp"
   ]
  }
 ],
 "metadata": {
  "kernelspec": {
   "display_name": "VietLegalQA",
   "language": "python",
   "name": "python3"
  },
  "language_info": {
   "codemirror_mode": {
    "name": "ipython",
    "version": 3
   },
   "file_extension": ".py",
   "mimetype": "text/x-python",
   "name": "python",
   "nbconvert_exporter": "python",
   "pygments_lexer": "ipython3",
   "version": "3.11.5"
  }
 },
 "nbformat": 4,
 "nbformat_minor": 2
}
