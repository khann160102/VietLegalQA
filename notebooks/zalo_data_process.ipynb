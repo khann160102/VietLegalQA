{
 "cells": [
  {
   "cell_type": "code",
   "execution_count": 1,
   "metadata": {},
   "outputs": [],
   "source": [
    "import json, csv"
   ]
  },
  {
   "cell_type": "code",
   "execution_count": 2,
   "metadata": {},
   "outputs": [],
   "source": [
    "with open(\n",
    "    \"./data/question.json\",\n",
    "    \"r\",\n",
    "    encoding=\"utf-8\",\n",
    ") as input_file:\n",
    "    qas = json.load(input_file)"
   ]
  },
  {
   "cell_type": "code",
   "execution_count": 3,
   "metadata": {},
   "outputs": [],
   "source": [
    "with open(\n",
    "    \"./data/law.json\",\n",
    "    \"r\",\n",
    "    encoding=\"utf-8\",\n",
    ") as input_file:\n",
    "    laws = json.load(input_file)"
   ]
  },
  {
   "cell_type": "code",
   "execution_count": 4,
   "metadata": {},
   "outputs": [],
   "source": [
    "ctx = {}\n",
    "for law in laws:\n",
    "    articles = {}\n",
    "    for article in law[\"articles\"]:\n",
    "        articles[article[\"id\"]] = article[\"text\"].replace(\"\\n\", \"\").replace(\"\\r\", \"\")\n",
    "    ctx[law[\"id\"]] = articles"
   ]
  },
  {
   "cell_type": "code",
   "execution_count": 5,
   "metadata": {},
   "outputs": [],
   "source": [
    "data = []\n",
    "\n",
    "for qa in qas:\n",
    "    relevant_articles = qa[\"relevant_articles\"][0]\n",
    "    context = ctx[relevant_articles[\"law_id\"]][relevant_articles[\"article_id\"]]\n",
    "    data.append([context, qa[\"text\"], qa[\"answer\"]])"
   ]
  },
  {
   "cell_type": "code",
   "execution_count": 6,
   "metadata": {},
   "outputs": [],
   "source": [
    "train_len = int(len(data) * 0.8)\n",
    "train = data[:train_len]\n",
    "test = data[train_len:]"
   ]
  },
  {
   "cell_type": "code",
   "execution_count": 7,
   "metadata": {},
   "outputs": [],
   "source": [
    "with open(\"./data/zalo_train.tsv\", \"w\", encoding=\"utf-8\") as train_file:\n",
    "    writer = csv.writer(train_file, delimiter=\"\\t\", lineterminator=\"\\n\")\n",
    "    writer.writerows(train)"
   ]
  },
  {
   "cell_type": "code",
   "execution_count": 8,
   "metadata": {},
   "outputs": [],
   "source": [
    "with open(\"./data/zalo_test.tsv\", \"w\", encoding=\"utf-8\") as train_file:\n",
    "    writer = csv.writer(train_file, delimiter=\"\\t\", lineterminator=\"\\n\")\n",
    "    writer.writerows(test)"
   ]
  }
 ],
 "metadata": {
  "kernelspec": {
   "display_name": "VietLegalQA",
   "language": "python",
   "name": "python3"
  },
  "language_info": {
   "codemirror_mode": {
    "name": "ipython",
    "version": 3
   },
   "file_extension": ".py",
   "mimetype": "text/x-python",
   "name": "python",
   "nbconvert_exporter": "python",
   "pygments_lexer": "ipython3",
   "version": "3.11.5"
  }
 },
 "nbformat": 4,
 "nbformat_minor": 2
}
