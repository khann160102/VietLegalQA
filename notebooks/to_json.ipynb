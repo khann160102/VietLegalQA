{
 "cells": [
  {
   "cell_type": "code",
   "execution_count": 1,
   "metadata": {},
   "outputs": [],
   "source": [
    "import json\n",
    "from datasets import load_dataset\n",
    "from tqdm import tqdm"
   ]
  },
  {
   "cell_type": "code",
   "execution_count": 2,
   "metadata": {},
   "outputs": [],
   "source": [
    "dataset = load_dataset(\"vietlegalqa/tvpl_summary_1k_ViSummary_231021\")"
   ]
  },
  {
   "cell_type": "code",
   "execution_count": 3,
   "metadata": {},
   "outputs": [],
   "source": [
    "def url_to_uid(url):\n",
    "    return url[45:-5]\n",
    "\n",
    "\n",
    "def summary_process(summary):\n",
    "    result = []\n",
    "    for sum in summary:\n",
    "        result.append(sum.replace(\":\", \".\").replace(\";\", \",\"))\n",
    "    return result\n",
    "\n",
    "\n",
    "def batch_process(examples):\n",
    "    for i in range(len(examples[\"url\"])):\n",
    "        examples[\"url\"][i] = url_to_uid(examples[\"url\"][i])\n",
    "        examples[\"summary\"][i] = summary_process(examples[\"summary\"][i])\n",
    "    return examples"
   ]
  },
  {
   "cell_type": "code",
   "execution_count": 9,
   "metadata": {},
   "outputs": [],
   "source": [
    "tvpl = (\n",
    "    dataset[\"train\"]\n",
    "    .select(range(10))\n",
    "    .map(batch_process, batched=True, batch_size=10000)\n",
    "    .to_list()\n",
    ")"
   ]
  },
  {
   "cell_type": "code",
   "execution_count": 10,
   "metadata": {},
   "outputs": [],
   "source": [
    "json.dump(\n",
    "    tvpl,\n",
    "    open(\n",
    "        \"./data/tvpl_ViSummary_10.json\",\n",
    "        \"w\",\n",
    "        encoding=\"utf-8\",\n",
    "    ),\n",
    "    indent=4,\n",
    "    ensure_ascii=False,\n",
    ")"
   ]
  }
 ],
 "metadata": {
  "kernelspec": {
   "display_name": "VietLegalQA",
   "language": "python",
   "name": "python3"
  },
  "language_info": {
   "codemirror_mode": {
    "name": "ipython",
    "version": 3
   },
   "file_extension": ".py",
   "mimetype": "text/x-python",
   "name": "python",
   "nbconvert_exporter": "python",
   "pygments_lexer": "ipython3",
   "version": "3.11.5"
  }
 },
 "nbformat": 4,
 "nbformat_minor": 2
}
