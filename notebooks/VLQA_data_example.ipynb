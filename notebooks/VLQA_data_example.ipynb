{
 "cells": [
  {
   "cell_type": "code",
   "execution_count": 1,
   "metadata": {},
   "outputs": [],
   "source": [
    "from vietlegalqa.data import load_document, load_document_hf, Document\n",
    "\n",
    "FIELD = [\"url\", \"title\", \"summary\", \"document\"]"
   ]
  },
  {
   "cell_type": "code",
   "execution_count": 2,
   "metadata": {},
   "outputs": [],
   "source": [
    "document = load_document_hf(\"vietlegalqa/tvpl_summary_kha\", field=FIELD)"
   ]
  },
  {
   "cell_type": "code",
   "execution_count": 22,
   "metadata": {},
   "outputs": [],
   "source": [
    "article_1 = document[0]\n",
    "article_2 = document[1]"
   ]
  },
  {
   "cell_type": "code",
   "execution_count": 45,
   "metadata": {},
   "outputs": [
    {
     "data": {
      "text/plain": [
       "str"
      ]
     },
     "execution_count": 45,
     "metadata": {},
     "output_type": "execute_result"
    }
   ],
   "source": [
    "type(article_1.summary[x])\n",
    "# list(stanza.models.common.doc.Document)"
   ]
  },
  {
   "cell_type": "code",
   "execution_count": 5,
   "metadata": {},
   "outputs": [
    {
     "data": {
      "text/plain": [
       "{'id': 'https://thuvienphapluat.vn/hoi-dap-phap-luat/1000-hd-chuc-nang-xa-hoi-cua-luat-luat-su-duoc-phap-luat-ve-luat-su-quy-dinh-nhu-the-nao.html', 'title': 'Chức năng xã hội của Luật luật sư được pháp luật về luật sư quy định như thế nào ?', 'summary': ['Hoạt động nghề nghiệp của luật sư góp phần bảo vệ công lý, các quyền tự do, dân chủ của công dân, phát triển kinh tế-xã hội và xây dựng nhà nước pháp quyền Việt Nam xã hội chủ nghĩa, xã hội dân chủ, công bằng, văn minh.'], 'context': ['Hoạt động nghề nghiệp của luật sư góp phần bảo vệ công lý, các quyền tự do, dân chủ của công dân, quyền, lợi ích hợp pháp của cá nhân, cơ quan, tổ chức, phát triển kinh tế-xã hội, xây dựng nhà nước pháp quyền Việt Nam xã hội chủ nghĩa, xã hội dân chủ, công bằng, văn minh.']}"
      ]
     },
     "execution_count": 5,
     "metadata": {},
     "output_type": "execute_result"
    }
   ],
   "source": [
    "document[0]"
   ]
  },
  {
   "cell_type": "code",
   "execution_count": 36,
   "metadata": {},
   "outputs": [
    {
     "name": "stdout",
     "output_type": "stream",
     "text": [
      "{'id': 'https://thuvienphapluat.vn/hoi-dap-phap-luat/1000-hd-chuc-nang-xa-hoi-cua-luat-luat-su-duoc-phap-luat-ve-luat-su-quy-dinh-nhu-the-nao.html', 'title': 'Chức năng xã hội của Luật luật sư được pháp luật về luật sư quy định như thế nào ?', 'summary': ['Hoạt động nghề nghiệp của luật sư góp phần bảo vệ công lý, các quyền tự do, dân chủ của công dân, phát triển kinh tế-xã hội và xây dựng nhà nước pháp quyền Việt Nam xã hội chủ nghĩa, xã hội dân chủ, công bằng, văn minh.'], 'context': ['Hoạt động nghề nghiệp của luật sư góp phần bảo vệ công lý, các quyền tự do, dân chủ của công dân, quyền, lợi ích hợp pháp của cá nhân, cơ quan, tổ chức, phát triển kinh tế-xã hội, xây dựng nhà nước pháp quyền Việt Nam xã hội chủ nghĩa, xã hội dân chủ, công bằng, văn minh.']}\n"
     ]
    }
   ],
   "source": [
    "for article in document:\n",
    "    print(article)\n",
    "    break"
   ]
  },
  {
   "cell_type": "code",
   "execution_count": 30,
   "metadata": {},
   "outputs": [],
   "source": [
    "doc_temp = Document()"
   ]
  },
  {
   "cell_type": "code",
   "execution_count": 32,
   "metadata": {},
   "outputs": [],
   "source": [
    "doc_temp.append(article_1)"
   ]
  },
  {
   "cell_type": "code",
   "execution_count": 33,
   "metadata": {},
   "outputs": [
    {
     "data": {
      "text/plain": [
       "1"
      ]
     },
     "execution_count": 33,
     "metadata": {},
     "output_type": "execute_result"
    }
   ],
   "source": [
    "len(doc_temp)"
   ]
  },
  {
   "cell_type": "code",
   "execution_count": 34,
   "metadata": {},
   "outputs": [
    {
     "data": {
      "text/plain": [
       "{'id': 'https://thuvienphapluat.vn/hoi-dap-phap-luat/1000-hd-chuc-nang-xa-hoi-cua-luat-luat-su-duoc-phap-luat-ve-luat-su-quy-dinh-nhu-the-nao.html', 'title': 'Chức năng xã hội của Luật luật sư được pháp luật về luật sư quy định như thế nào ?', 'summary': ['Hoạt động nghề nghiệp của luật sư góp phần bảo vệ công lý, các quyền tự do, dân chủ của công dân, phát triển kinh tế-xã hội và xây dựng nhà nước pháp quyền Việt Nam xã hội chủ nghĩa, xã hội dân chủ, công bằng, văn minh.'], 'context': ['Hoạt động nghề nghiệp của luật sư góp phần bảo vệ công lý, các quyền tự do, dân chủ của công dân, quyền, lợi ích hợp pháp của cá nhân, cơ quan, tổ chức, phát triển kinh tế-xã hội, xây dựng nhà nước pháp quyền Việt Nam xã hội chủ nghĩa, xã hội dân chủ, công bằng, văn minh.']}"
      ]
     },
     "execution_count": 34,
     "metadata": {},
     "output_type": "execute_result"
    }
   ],
   "source": [
    "doc_temp[0]"
   ]
  },
  {
   "cell_type": "code",
   "execution_count": 37,
   "metadata": {},
   "outputs": [],
   "source": [
    "document.to_json(\"./test.json\")"
   ]
  },
  {
   "cell_type": "code",
   "execution_count": 38,
   "metadata": {},
   "outputs": [],
   "source": [
    "document.to_pickle(\"./test.pkl\")"
   ]
  },
  {
   "cell_type": "code",
   "execution_count": 39,
   "metadata": {},
   "outputs": [
    {
     "data": {
      "text/plain": [
       "vietlegalqa.data.doc.Document"
      ]
     },
     "execution_count": 39,
     "metadata": {},
     "output_type": "execute_result"
    }
   ],
   "source": [
    "doc_json = load_document(\"./test.json\", type=\"json\")\n",
    "type(doc_json)"
   ]
  },
  {
   "cell_type": "code",
   "execution_count": 41,
   "metadata": {},
   "outputs": [
    {
     "data": {
      "text/plain": [
       "30000"
      ]
     },
     "execution_count": 41,
     "metadata": {},
     "output_type": "execute_result"
    }
   ],
   "source": [
    "len(doc_json)"
   ]
  },
  {
   "cell_type": "code",
   "execution_count": 40,
   "metadata": {},
   "outputs": [
    {
     "data": {
      "text/plain": [
       "vietlegalqa.data.doc.Document"
      ]
     },
     "execution_count": 40,
     "metadata": {},
     "output_type": "execute_result"
    }
   ],
   "source": [
    "doc_pkl = load_document(\"./test.pkl\", type=\"pickle\")\n",
    "type(doc_pkl)"
   ]
  },
  {
   "cell_type": "code",
   "execution_count": 42,
   "metadata": {},
   "outputs": [
    {
     "data": {
      "text/plain": [
       "30000"
      ]
     },
     "execution_count": 42,
     "metadata": {},
     "output_type": "execute_result"
    }
   ],
   "source": [
    "len(doc_pkl)"
   ]
  }
 ],
 "metadata": {
  "kernelspec": {
   "display_name": "VietLegalQA",
   "language": "python",
   "name": "python3"
  },
  "language_info": {
   "codemirror_mode": {
    "name": "ipython",
    "version": 3
   },
   "file_extension": ".py",
   "mimetype": "text/x-python",
   "name": "python",
   "nbconvert_exporter": "python",
   "pygments_lexer": "ipython3",
   "version": "3.11.5"
  }
 },
 "nbformat": 4,
 "nbformat_minor": 2
}
