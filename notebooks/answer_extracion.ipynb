{
 "cells": [
  {
   "cell_type": "code",
   "execution_count": 1,
   "metadata": {},
   "outputs": [],
   "source": [
    "import stanza\n",
    "from stanza.models.common.doc import Document\n",
    "from stanza.models.constituency.parse_tree import Tree\n",
    "from tqdm import tqdm\n",
    "from underthesea import word_tokenize, sent_tokenize"
   ]
  },
  {
   "cell_type": "code",
   "execution_count": 2,
   "metadata": {},
   "outputs": [],
   "source": [
    "PARSER = stanza.Pipeline(\n",
    "    lang=\"vi\",\n",
    "    allow_unknown_language=True,\n",
    "    processors=\"tokenize, pos, ner, constituency\",\n",
    "    verbose=False,\n",
    ")\n",
    "POS = stanza.Pipeline(\n",
    "    lang=\"vi\",\n",
    "    allow_unknown_language=True,\n",
    "    processors=\"tokenize, pos, lemma\",\n",
    "    verbose=False,\n",
    ")"
   ]
  },
  {
   "cell_type": "code",
   "execution_count": 3,
   "metadata": {},
   "outputs": [],
   "source": [
    "st = PARSER(\n",
    "    \" \".join(\n",
    "        word_tokenize(\n",
    "            \"Kính gửi luật sư, Tôi xin hỏi luật sư 1 số vấn đề như sau về công ty nước ngoài 1/Công ty nước ngoài (chưa thành lập công ty cũng như Văn phòng đại diện tại Việt Nam) khi muốn thi công xây dựng tại Việt Nam với thời gian ngắn 1-2 năm trong các dự án xây dựng, ODA thì có xin được giấy phép xây dựng đó không?  Có được phép không? 2/ Công ty nước ngoài( chưa có văn phòng đại diện cũng như pháp nhân tại Việt Nam) có được phép mở tài khoản tại ngân hàng tại Việt Nam để giao dich với các khách hàng Việt Nam hay không? 3/ Khi xin được giấy phép xây dựng 1 dự án rồi, có cần thiết phải mở 1 tài khoản riêng cho dự án này không ? Hay là sử dụng chung tài khoản mà văn phòng đại diện tại Việt Nam đang có cũng được? 4/ Khi kết thúc dự án sau ngày 12/5 mà trong tài khoản còn tiền, có được phép chuyển tiền ra nước ngoài hay không? (về công ty mẹ bên Nhật) Xin cảm ơn Luật sư đã quan tâm  Phương\"\n",
    "        )\n",
    "    )\n",
    ")"
   ]
  },
  {
   "cell_type": "code",
   "execution_count": 4,
   "metadata": {},
   "outputs": [],
   "source": [
    "input_data = [\n",
    "    {\n",
    "        \"url\": \"10055-hd-cong-ty-nuoc-ngoai-co-duoc-phep-thi-cong-xay-dung\",\n",
    "        \"title\": \"Công ty nước ngoài có được phép thi công xây dựng?\",\n",
    "        \"summary\": [\n",
    "            \"Kính gửi luật sư, Tôi xin hỏi luật sư 1 số vấn đề như sau về công ty nước ngoài 1/Công ty nước ngoài (chưa thành lập công ty cũng như Văn phòng đại diện tại Việt Nam) khi muốn thi công xây dựng tại Việt Nam với thời gian ngắn 1-2 năm trong các dự án xây dựng, ODA thì có xin được giấy phép xây dựng đó không?  Có được phép không? 2/ Công ty nước ngoài( chưa có văn phòng đại diện cũng như pháp nhân tại Việt Nam) có được phép mở tài khoản tại ngân hàng tại Việt Nam để giao dich với các khách hàng Việt Nam hay không? 3/ Khi xin được giấy phép xây dựng 1 dự án rồi, có cần thiết phải mở 1 tài khoản riêng cho dự án này không ? Hay là sử dụng chung tài khoản mà văn phòng đại diện tại Việt Nam đang có cũng được? 4/ Khi kết thúc dự án mà trong tài khoản còn tiền, có được phép chuyển tiền ra nước ngoài hay không? (về công ty mẹ bên Nhật) Xin cảm ơn Luật sư đã quan tâm  Phương\",\n",
    "            \"Hợp đồng ký kết với nhà thầu nước ngoài có hiệu lực trong vòng 15 ngày, kể từ ngày có hiệu lực. Các gói thầu trên lãnh thổ Việt Nam phải tuân thủ các quy định của pháp luật Việt Nam, không được chuyển tiền cho công ty nước ngoài khác theo quy định. Văn phòng đại diện có trách nhiệm gửi báo cáo bằng văn bản và bằng thư điện tử về Bộ Kế hoạch và Đầu tư ở địa phương và thực hiện các thủ tục quản lý tài chính.\",\n",
    "        ],\n",
    "        \"document\": [\n",
    "            \"Chào bạn!\",\n",
    "            \"Công ty nước ngoài vẫn có quyền tham gia đấu thầu các dự án xây dựng tại Việt nam (nếu dự án đó cho phép).\",\n",
    "            \"Sau khi được lựa chọn để thực hiện các gói thầu trên lãnh thổ Việt Nam, nhà thầu nước ngoài phải tuân thủ các quy định của pháp luật Việt Nam về nhập cảnh, xuất cảnh, nhập khẩu, xuất khẩu hàng hóa, đăng ký tạm trú, chế độ kế toán, thuế và các quy định khác của pháp luật Việt Nam liên quan, trừ trường hợp có quy định khác trong điều ước quốc tế mà Cộng hòa xã hội chủ nghĩa Việt Nam là thành viên hoặc thoả thuận quốc tế mà cơ quan, tổ chức có thẩm quyền của Cộng hòa xã hội chủ nghĩa Việt Nam đã ký kết.\",\n",
    "            \"Trong vòng 15 ngày, kể từ ngày hợp đồng ký kết với nhà thầu nước ngoài có hiệu lực, chủ đầu tư các dự án có trách nhiệm gửi báo cáo bằng văn bản, bằng thư điện tử  về Bộ Kế hoạch và Đầu tư đồng thời gửi Bộ quản lý ngành (đối với dự án thuộc phạm vi quản lý của Bộ hoặc do Bộ trưởng quyết định đầu tư), Bộ Xây dựng (đối với các gói thầu trong hoạt động xây dựng) và gửi cho Sở Kế hoạch và Đầu tư ở địa phương (đối với dự án thuộc phạm vi quản lý của địa phương) để tổng hợp và theo dõi.\",\n",
    "            \"Khi có giấy phép, bạn vẫn có thể sử dụng tài khoản của văn phòng đại diện và thực hiện đúng các quy định về kế toán tài chính.\",\n",
    "            \"Các nguồn tiền sử dụng cho dự án sau khi kết toán thì số dư hoặc lợi nhuận sẽ được chuyển về cho đơn vị sở hữu theo các thủ tục chung về quản lý tài chính.\",\n",
    "        ],\n",
    "    }\n",
    "]"
   ]
  },
  {
   "cell_type": "code",
   "execution_count": 5,
   "metadata": {},
   "outputs": [],
   "source": [
    "entity_category = {\n",
    "    \"PERSONNORPORG\": \"PERSON, NORP, ORG\".replace(\" \", \"\").split(\",\"),\n",
    "    \"PLACE\": \"GPE, LOCATION, FAC\".replace(\" \", \"\").split(\",\"),\n",
    "    \"THING\": \"PRODUCT, EVENT, WORK_OF_ART, LAW, LANGUAGE\".replace(\" \", \"\").split(\",\"),\n",
    "    \"TEMPORAL\": \"TIME, DATE\".replace(\" \", \"\").split(\",\"),\n",
    "    \"NUMERIC\": \"PERCENT, MONEY, QUANTITY, ORDINAL, CARDINAL\".replace(\" \", \"\").split(\n",
    "        \",\"\n",
    "    ),\n",
    "}\n",
    "entity_type_map = {}\n",
    "for cate in entity_category:\n",
    "    for item in entity_category[cate]:\n",
    "        entity_type_map[item] = cate"
   ]
  },
  {
   "cell_type": "code",
   "execution_count": 6,
   "metadata": {},
   "outputs": [],
   "source": [
    "with open(\"./data/vietnamese-stopwords.txt\", \"r\") as file:\n",
    "    STOPWORDS = file.read().splitlines()\n",
    "\n",
    "\n",
    "def is_stop(word):\n",
    "    if word.text in STOPWORDS:\n",
    "        return True\n",
    "    else:\n",
    "        return False"
   ]
  },
  {
   "cell_type": "code",
   "execution_count": 7,
   "metadata": {},
   "outputs": [],
   "source": [
    "def extract_s_clauses(node: Tree, threshold: int == 3) -> list:\n",
    "    if node.is_leaf():\n",
    "        return []\n",
    "    clauses = []\n",
    "\n",
    "    for leaf in node.children:\n",
    "        clauses += extract_s_clauses(leaf)\n",
    "\n",
    "    if node.label == \"S\" and len(node.leaf_labels()) > threshold:\n",
    "        clauses.append(\" \".join(node.leaf_labels()).strip())\n",
    "\n",
    "    print(clauses)\n",
    "\n",
    "    return clauses"
   ]
  },
  {
   "cell_type": "code",
   "execution_count": 8,
   "metadata": {},
   "outputs": [],
   "source": [
    "def extract_comma_clauses(tree: Tree) -> list:\n",
    "    clauses = []\n",
    "    comma_clauses = \" \".join(tree.leaf_labels()).split(\",\")\n",
    "\n",
    "    if len(comma_clauses) > 1:\n",
    "        idx = 0\n",
    "        for clause in comma_clauses:\n",
    "            idx += 1\n",
    "\n",
    "            while len(clause) < 10 and idx < len(comma_clauses):\n",
    "                clause = \", \".join([clause.strip(), comma_clauses[idx]].strip())\n",
    "                idx += 1\n",
    "\n",
    "            clauses.append(clause)\n",
    "    return clauses"
   ]
  },
  {
   "cell_type": "code",
   "execution_count": 9,
   "metadata": {},
   "outputs": [],
   "source": [
    "def extract_clauses(nlp: Document) -> list:\n",
    "    clauses = []\n",
    "\n",
    "    for sent in nlp.sentences:\n",
    "        try:\n",
    "            clauses += extract_s_clauses(sent.constituency, 3)\n",
    "        except Exception as e:\n",
    "            pass\n",
    "\n",
    "        try:\n",
    "            clauses += extract_comma_clauses(sent.constituency)\n",
    "        except Exception as e:\n",
    "            pass\n",
    "\n",
    "    clauses = sorted(clauses, key=lambda clause: len(clause))\n",
    "    return clauses"
   ]
  },
  {
   "cell_type": "code",
   "execution_count": 10,
   "metadata": {},
   "outputs": [],
   "source": [
    "def extract_pos(node: Tree, pos_tag: str) -> list:\n",
    "    if node.is_leaf():\n",
    "        return []\n",
    "\n",
    "    spans = []\n",
    "    # children = list(tree_node.children)\n",
    "    for child in node.children:\n",
    "        spans += extract_pos(child, pos_tag)\n",
    "    if pos_tag == node.label.upper():\n",
    "        spans.append(\" \".join(node.leaf_labels()))\n",
    "\n",
    "    return spans"
   ]
  },
  {
   "cell_type": "code",
   "execution_count": 11,
   "metadata": {},
   "outputs": [],
   "source": [
    "def extract_pos_answers(nlp: Document, pos_tag: str) -> list:\n",
    "    spans = []\n",
    "    try:\n",
    "        for sent in nlp.sentences:\n",
    "            spans += extract_pos(sent.constituency, pos_tag)\n",
    "    except Exception as e:\n",
    "        return []\n",
    "\n",
    "    return spans"
   ]
  },
  {
   "cell_type": "code",
   "execution_count": 12,
   "metadata": {},
   "outputs": [],
   "source": [
    "def get_summary(doc: str) -> tuple:\n",
    "    # doc = \" \".join(word_tokenize(doc))\n",
    "    nlp = PARSER(doc)\n",
    "    doc = \"\"\n",
    "    for sent in nlp.sentences:\n",
    "        doc += \" \".join(sent.constituency.leaf_labels()) + \" \"\n",
    "    doc = doc.strip()\n",
    "\n",
    "    return doc, nlp"
   ]
  },
  {
   "cell_type": "code",
   "execution_count": 13,
   "metadata": {},
   "outputs": [],
   "source": [
    "def get_answer_start(answer: str, question: str, context: list[str]) -> int:\n",
    "    q_tokens = []\n",
    "    for word in POS(question).sentences[0].words:\n",
    "        if not is_stop(word):\n",
    "            q_tokens.append(word.lemma)\n",
    "\n",
    "    answer_rank = []\n",
    "    for ctx in context:\n",
    "        if ctx.find(answer) != -1:\n",
    "            score = 0\n",
    "            for words in POS(ctx).sentences[0].words:\n",
    "                if not is_stop(words) and words.lemma in q_tokens:\n",
    "                    score += 1\n",
    "            answer_rank.append({\"score\": score, \"context\": ctx})\n",
    "\n",
    "    answer_start = -1\n",
    "\n",
    "    if len(answer_rank) != 0:\n",
    "        answer_rank = sorted(answer_rank, key=lambda x: x[\"score\"])\n",
    "        refined_answer = answer_rank[0][\"context\"]\n",
    "        answer_start = \" \".join(context).find(refined_answer) + refined_answer.find(\n",
    "            answer\n",
    "        )\n",
    "\n",
    "    return answer_start"
   ]
  },
  {
   "cell_type": "code",
   "execution_count": 14,
   "metadata": {},
   "outputs": [],
   "source": [
    "def extract_answer_pos(input_data, span_type):\n",
    "    cloze = []\n",
    "    q_count = 0\n",
    "\n",
    "    for item in tqdm(input_data, desc=\"Answer Extraction\"):\n",
    "        summaries = []\n",
    "        qas = []\n",
    "\n",
    "        for idx, summary in enumerate(item[\"summary\"]):\n",
    "            summary, summary_doc = get_summary(summary)\n",
    "            summaries.append(summary)\n",
    "\n",
    "            try:\n",
    "                spans = extract_pos_answers(summary_doc, span_type)\n",
    "                if len(spans) <= 0:\n",
    "                    continue\n",
    "            except Exception as e:\n",
    "                continue\n",
    "\n",
    "            try:\n",
    "                clauses = extract_clauses(summary_doc)\n",
    "            except Exception as e:\n",
    "                continue\n",
    "\n",
    "            for answer in spans:\n",
    "                question = None\n",
    "                for clause in clauses:\n",
    "                    if len(answer) != 0 and clause.find(answer) != -1:\n",
    "                        question = clause.replace(answer, \"PLACEHOLDER\", 1)\n",
    "                        break\n",
    "                if not question:\n",
    "                    continue\n",
    "\n",
    "                answer_start = get_answer_start(answer, question, item[\"document\"])\n",
    "                if answer_start == -1:\n",
    "                    continue\n",
    "\n",
    "                qas.append(\n",
    "                    {\n",
    "                        \"id\": f'{item[\"url\"]}_{q_count}',\n",
    "                        \"is_impossible\": False,\n",
    "                        \"question\": question,\n",
    "                        \"answers\": [\n",
    "                            {\n",
    "                                \"text\": answer,\n",
    "                                \"type\": span_type,\n",
    "                                \"start\": answer_start,\n",
    "                                \"id\": idx,\n",
    "                            }\n",
    "                        ],\n",
    "                    }\n",
    "                )\n",
    "                q_count += 1\n",
    "\n",
    "        cloze.append(\n",
    "            {\n",
    "                \"title\": item[\"title\"],\n",
    "                \"summary\": summaries,\n",
    "                \"context\": \" \".join(item[\"document\"]),\n",
    "                \"QA\": qas,\n",
    "            }\n",
    "        )\n",
    "\n",
    "    print(f\"QA found: {q_count}\")\n",
    "    return cloze"
   ]
  },
  {
   "cell_type": "code",
   "execution_count": 17,
   "metadata": {},
   "outputs": [],
   "source": [
    "def extract_answer_ne(input_data):\n",
    "    cloze = []\n",
    "    q_count = 0\n",
    "\n",
    "    for item in tqdm(input_data, desc=\"Answers Extraction\"):\n",
    "        summaries = []\n",
    "        qas = []\n",
    "\n",
    "        for idx, summary in enumerate(item[\"summary\"]):\n",
    "            summary, summary_doc = get_summary(summary)\n",
    "            summaries.append(summary)\n",
    "\n",
    "            try:\n",
    "                clauses = extract_clauses(summary_doc)\n",
    "            except Exception as e:\n",
    "                continue\n",
    "\n",
    "            for answer in summary_doc.ents:\n",
    "                question = None\n",
    "                for sent in summary_doc.sentences:\n",
    "                    if answer.end_char <= sent.tokens[-1].end_char:\n",
    "                        question = \" \".join(sent.constituency.leaf_labels()).replace(\n",
    "                            answer.text,\n",
    "                            answer.type,\n",
    "                            1,\n",
    "                        )\n",
    "                        break\n",
    "                if not question:\n",
    "                    continue\n",
    "\n",
    "                answer_start = get_answer_start(answer.text, question, item[\"document\"])\n",
    "                if answer_start == -1:\n",
    "                    continue\n",
    "\n",
    "                qas.append(\n",
    "                    {\n",
    "                        \"id\": f'{item[\"url\"]}_{q_count}',\n",
    "                        \"is_impossible\": False,\n",
    "                        \"question\": question,\n",
    "                        \"answers\": [\n",
    "                            {\n",
    "                                \"text\": answer.text,\n",
    "                                \"type\": answer.type,\n",
    "                                \"start\": answer_start,\n",
    "                                \"id\": idx,\n",
    "                            }\n",
    "                        ],\n",
    "                    }\n",
    "                )\n",
    "                q_count += 1\n",
    "\n",
    "        cloze.append(\n",
    "            {\n",
    "                \"title\": item[\"title\"],\n",
    "                \"summary\": summaries,\n",
    "                \"context\": \" \".join(item[\"document\"]),\n",
    "                \"QA\": qas,\n",
    "            }\n",
    "        )\n",
    "\n",
    "    print(\"Questions Number\", q_count)\n",
    "    return cloze"
   ]
  },
  {
   "cell_type": "code",
   "execution_count": 18,
   "metadata": {},
   "outputs": [
    {
     "name": "stderr",
     "output_type": "stream",
     "text": [
      "Answers Extraction: 100%|██████████| 1/1 [00:02<00:00,  2.62s/it]"
     ]
    },
    {
     "name": "stdout",
     "output_type": "stream",
     "text": [
      "Questions Number 7\n"
     ]
    },
    {
     "name": "stderr",
     "output_type": "stream",
     "text": [
      "\n"
     ]
    }
   ],
   "source": [
    "cloze_ne = extract_answer_ne(input_data)"
   ]
  },
  {
   "cell_type": "code",
   "execution_count": 19,
   "metadata": {},
   "outputs": [
    {
     "name": "stderr",
     "output_type": "stream",
     "text": [
      "Answer Extraction: 100%|██████████| 1/1 [00:04<00:00,  4.73s/it]"
     ]
    },
    {
     "name": "stdout",
     "output_type": "stream",
     "text": [
      "QA found: 14\n"
     ]
    },
    {
     "name": "stderr",
     "output_type": "stream",
     "text": [
      "\n"
     ]
    }
   ],
   "source": [
    "cloze = extract_answer_pos(input_data, span_type=\"NP\")"
   ]
  },
  {
   "cell_type": "code",
   "execution_count": 22,
   "metadata": {},
   "outputs": [
    {
     "data": {
      "text/plain": [
       "[{'title': 'Công ty nước ngoài có được phép thi công xây dựng?',\n",
       "  'summary': ['Kính gửi luật sư, Tôi xin hỏi luật sư 1 số vấn đề như sau về công ty nước ngoài 1 /Công ty nước ngoài ( chưa thành lập công ty cũng như Văn phòng đại diện tại Việt Na m) khi muốn thi công xây dựng tại Việt Nam với thời gian ngắn 1 -2 năm trong các dự án xây dựn g, ODA thì có xin được giấy phép xây dựng đó không? Có được phép không? 2/ Công ty nước ngoà i( chưa có văn phòng đại diện cũng như pháp nhân tại Việt Nam) có được phép mở tài khoản tại ngân hàng tại Việt Nam để giao dich với các khách hàng Việt Nam hay không? 3/ Khi xin được giấy phép xây dựng 1 dự án rồi, có cần thiết phải mở 1 tài khoản riêng cho dự án này không ? Hay là sử dụng chung tài khoản mà văn phòng đại diện tại Việt Nam đang có cũng được? 4/ Khi kết thúc dự án mà trong tài khoản còn tiền, có được phép chuyển tiền ra nước ngoài hay không? ( về công ty mẹ bên Nhậ t) Xin cảm ơn Luật sư đã quan tâm Phương',\n",
       "   'Hợp đồng ký kết với nhà thầu nước ngoài có hiệu lực trong vòng 15 ngà y, kể từ ngày có hiệu lự c. Các gói thầu trên lãnh thổ Việt Nam phải tuân thủ các quy định của pháp luật Việt Nam, không được chuyển tiền cho công ty nước ngoài khác theo quy địn h. Văn phòng đại diện có trách nhiệm gửi báo cáo bằng văn bản và bằng thư điện tử về Bộ Kế hoạch và Đầu tư ở địa phương và thực hiện các thủ tục quản lý tài chính .'],\n",
       "  'context': 'Chào bạn! Công ty nước ngoài vẫn có quyền tham gia đấu thầu các dự án xây dựng tại Việt nam (nếu dự án đó cho phép). Sau khi được lựa chọn để thực hiện các gói thầu trên lãnh thổ Việt Nam, nhà thầu nước ngoài phải tuân thủ các quy định của pháp luật Việt Nam về nhập cảnh, xuất cảnh, nhập khẩu, xuất khẩu hàng hóa, đăng ký tạm trú, chế độ kế toán, thuế và các quy định khác của pháp luật Việt Nam liên quan, trừ trường hợp có quy định khác trong điều ước quốc tế mà Cộng hòa xã hội chủ nghĩa Việt Nam là thành viên hoặc thoả thuận quốc tế mà cơ quan, tổ chức có thẩm quyền của Cộng hòa xã hội chủ nghĩa Việt Nam đã ký kết. Trong vòng 15 ngày, kể từ ngày hợp đồng ký kết với nhà thầu nước ngoài có hiệu lực, chủ đầu tư các dự án có trách nhiệm gửi báo cáo bằng văn bản, bằng thư điện tử  về Bộ Kế hoạch và Đầu tư đồng thời gửi Bộ quản lý ngành (đối với dự án thuộc phạm vi quản lý của Bộ hoặc do Bộ trưởng quyết định đầu tư), Bộ Xây dựng (đối với các gói thầu trong hoạt động xây dựng) và gửi cho Sở Kế hoạch và Đầu tư ở địa phương (đối với dự án thuộc phạm vi quản lý của địa phương) để tổng hợp và theo dõi. Khi có giấy phép, bạn vẫn có thể sử dụng tài khoản của văn phòng đại diện và thực hiện đúng các quy định về kế toán tài chính. Các nguồn tiền sử dụng cho dự án sau khi kết toán thì số dư hoặc lợi nhuận sẽ được chuyển về cho đơn vị sở hữu theo các thủ tục chung về quản lý tài chính.',\n",
       "  'QA': [{'id': '10055-hd-cong-ty-nuoc-ngoai-co-duoc-phep-thi-cong-xay-dung_0',\n",
       "    'is_impossible': False,\n",
       "    'question': '/Công ty nước ngoài ( chưa thành lập công ty cũng như Văn phòng đại diện tại LOCATION m) khi muốn thi công xây dựng tại Việt Nam với thời gian ngắn 1 -2 năm trong các dự án xây dựn g, ODA thì có xin được giấy phép xây dựng đó không?',\n",
       "    'answers': [{'text': 'Việt Na',\n",
       "      'type': 'LOCATION',\n",
       "      'start': 199,\n",
       "      'id': 0}]},\n",
       "   {'id': '10055-hd-cong-ty-nuoc-ngoai-co-duoc-phep-thi-cong-xay-dung_1',\n",
       "    'is_impossible': False,\n",
       "    'question': '/Công ty nước ngoài ( chưa thành lập công ty cũng như Văn phòng đại diện tại Việt Na m) khi muốn thi công xây dựng tại LOCATION với thời gian ngắn 1 -2 năm trong các dự án xây dựn g, ODA thì có xin được giấy phép xây dựng đó không?',\n",
       "    'answers': [{'text': 'Việt Nam',\n",
       "      'type': 'LOCATION',\n",
       "      'start': 199,\n",
       "      'id': 0}]},\n",
       "   {'id': '10055-hd-cong-ty-nuoc-ngoai-co-duoc-phep-thi-cong-xay-dung_2',\n",
       "    'is_impossible': False,\n",
       "    'question': 'Có được phép không? 2/ Công ty nước ngoà i( chưa có văn phòng đại diện cũng như pháp nhân tại LOCATION) có được phép mở tài khoản tại ngân hàng tại Việt Nam để giao dich với các khách hàng Việt Nam hay không? 3/ Khi xin được giấy phép xây dựng 1 dự án rồi, có cần thiết phải mở 1 tài khoản riêng cho dự án này không ?',\n",
       "    'answers': [{'text': 'Việt Nam',\n",
       "      'type': 'LOCATION',\n",
       "      'start': 199,\n",
       "      'id': 0}]},\n",
       "   {'id': '10055-hd-cong-ty-nuoc-ngoai-co-duoc-phep-thi-cong-xay-dung_3',\n",
       "    'is_impossible': False,\n",
       "    'question': 'Có được phép không? 2/ Công ty nước ngoà i( chưa có văn phòng đại diện cũng như pháp nhân tại LOCATION) có được phép mở tài khoản tại ngân hàng tại Việt Nam để giao dich với các khách hàng Việt Nam hay không? 3/ Khi xin được giấy phép xây dựng 1 dự án rồi, có cần thiết phải mở 1 tài khoản riêng cho dự án này không ?',\n",
       "    'answers': [{'text': 'Việt Nam',\n",
       "      'type': 'LOCATION',\n",
       "      'start': 199,\n",
       "      'id': 0}]},\n",
       "   {'id': '10055-hd-cong-ty-nuoc-ngoai-co-duoc-phep-thi-cong-xay-dung_4',\n",
       "    'is_impossible': False,\n",
       "    'question': 'Hay là sử dụng chung tài khoản mà văn phòng đại diện tại LOCATION đang có cũng được? 4/ Khi kết thúc dự án mà trong tài khoản còn tiền, có được phép chuyển tiền ra nước ngoài hay không? ( về công ty mẹ bên Nhậ t) Xin cảm ơn Luật sư đã quan tâm Phương',\n",
       "    'answers': [{'text': 'Việt Nam',\n",
       "      'type': 'LOCATION',\n",
       "      'start': 199,\n",
       "      'id': 0}]},\n",
       "   {'id': '10055-hd-cong-ty-nuoc-ngoai-co-duoc-phep-thi-cong-xay-dung_5',\n",
       "    'is_impossible': False,\n",
       "    'question': 'Các gói thầu trên lãnh thổ LOCATION phải tuân thủ các quy định của pháp luật Việt Nam, không được chuyển tiền cho công ty nước ngoài khác theo quy địn h.',\n",
       "    'answers': [{'text': 'Việt Nam',\n",
       "      'type': 'LOCATION',\n",
       "      'start': 199,\n",
       "      'id': 1}]},\n",
       "   {'id': '10055-hd-cong-ty-nuoc-ngoai-co-duoc-phep-thi-cong-xay-dung_6',\n",
       "    'is_impossible': False,\n",
       "    'question': 'Văn phòng đại diện có trách nhiệm gửi báo cáo bằng văn bản và bằng thư điện tử về ORGANIZATION ở địa phương và thực hiện các thủ tục quản lý tài chính .',\n",
       "    'answers': [{'text': 'Bộ Kế hoạch và Đầu tư',\n",
       "      'type': 'ORGANIZATION',\n",
       "      'start': 810,\n",
       "      'id': 1}]}]}]"
      ]
     },
     "execution_count": 22,
     "metadata": {},
     "output_type": "execute_result"
    }
   ],
   "source": [
    "cloze_ne"
   ]
  }
 ],
 "metadata": {
  "kernelspec": {
   "display_name": "VietLegalQA",
   "language": "python",
   "name": "python3"
  },
  "language_info": {
   "codemirror_mode": {
    "name": "ipython",
    "version": 3
   },
   "file_extension": ".py",
   "mimetype": "text/x-python",
   "name": "python",
   "nbconvert_exporter": "python",
   "pygments_lexer": "ipython3",
   "version": "3.11.5"
  }
 },
 "nbformat": 4,
 "nbformat_minor": 2
}
